{
 "cells": [
  {
   "cell_type": "markdown",
   "metadata": {},
   "source": [
    "# Field Readiness Exam\n",
    "\n",
    "** Welcome to your first FRE - Field Readiness Exam Recruit! This is where we test your skills to see if you qualify to become a full field agent. Complete the tasks below to the best of your ability. Immediately after this we will go over the solutions and check your performance. **\n",
    "_______"
   ]
  },
  {
   "cell_type": "markdown",
   "metadata": {},
   "source": [
    "### Task 1\n",
    "\n",
    "**Open the exam.txt file with Python and with only read permission and store the contents in a list called exam_lines**"
   ]
  },
  {
   "cell_type": "code",
   "execution_count": 4,
   "metadata": {},
   "outputs": [
    {
     "name": "stdout",
     "output_type": "stream",
     "text": [
      "['Welcome to your First Exam Recruit.', 'Only the best recruits can become agents.', 'Do you have what it takes?', 'We will test your knowledge with this field readiness exam.', 'It should be pretty simple, since you only know the basics so far.', \"Let's get started.\", 'Best of luck recruit.']\n"
     ]
    }
   ],
   "source": [
    "# Code Here\n",
    "with open('G:\\\\Projects\\\\Python-Master-Class\\\\02-Field-Readiness-Exam-1\\\\exam.txt','r') as myfile:\n",
    "    # Notice the indentation!\n",
    "    # We'll discuss this a lot more later on\n",
    "\tlines = myfile.read()\n",
    "\texam_lines = lines.split('\\n')\n",
    "print(exam_lines)"
   ]
  },
  {
   "cell_type": "code",
   "execution_count": 8,
   "metadata": {},
   "outputs": [
    {
     "name": "stdout",
     "output_type": "stream",
     "text": [
      "['Welcome to your First Exam Recruit.\\n', 'Only the best recruits can become agents.\\n', 'Do you have what it takes?\\n', 'We will test your knowledge with this field readiness exam.\\n', 'It should be pretty simple, since you only know the basics so far.\\n', \"Let's get started.\\n\", 'Best of luck recruit.']\n"
     ]
    }
   ],
   "source": [
    "# Your output should look something like this:"
   ]
  },
  {
   "cell_type": "markdown",
   "metadata": {},
   "source": [
    "### Task 2\n",
    "\n",
    "How many lines does this file have?"
   ]
  },
  {
   "cell_type": "code",
   "execution_count": 5,
   "metadata": {},
   "outputs": [
    {
     "name": "stdout",
     "output_type": "stream",
     "text": [
      "7\n"
     ]
    }
   ],
   "source": [
    "count = 0\n",
    "for i in exam_lines:\n",
    "    count += 1\n",
    "print(count)"
   ]
  },
  {
   "cell_type": "code",
   "execution_count": 9,
   "metadata": {},
   "outputs": [
    {
     "data": {
      "text/plain": [
       "7"
      ]
     },
     "execution_count": 9,
     "metadata": {},
     "output_type": "execute_result"
    }
   ],
   "source": [
    "# Your output should look something like this:"
   ]
  },
  {
   "cell_type": "markdown",
   "metadata": {},
   "source": [
    "### Task 3\n",
    "\n",
    "Print out the 5th line of the text file."
   ]
  },
  {
   "cell_type": "code",
   "execution_count": 6,
   "metadata": {},
   "outputs": [
    {
     "name": "stdout",
     "output_type": "stream",
     "text": [
      "It should be pretty simple, since you only know the basics so far.\n"
     ]
    }
   ],
   "source": [
    "print(exam_lines[4])"
   ]
  },
  {
   "cell_type": "code",
   "execution_count": 10,
   "metadata": {},
   "outputs": [
    {
     "name": "stdout",
     "output_type": "stream",
     "text": [
      "It should be pretty simple, since you only know the basics so far.\n",
      "\n"
     ]
    }
   ],
   "source": [
    "# Your output should look something like this:"
   ]
  },
  {
   "cell_type": "markdown",
   "metadata": {},
   "source": [
    "### Task 4\n",
    "\n",
    "Grab the last line of the text file and save it to a variable called last."
   ]
  },
  {
   "cell_type": "code",
   "execution_count": 7,
   "metadata": {},
   "outputs": [
    {
     "name": "stdout",
     "output_type": "stream",
     "text": [
      "Best of luck recruit.\n"
     ]
    }
   ],
   "source": [
    "last = exam_lines[-1]\n",
    "print(last)"
   ]
  },
  {
   "cell_type": "code",
   "execution_count": 44,
   "metadata": {},
   "outputs": [
    {
     "data": {
      "text/plain": [
       "'Best of luck recruit.'"
      ]
     },
     "execution_count": 44,
     "metadata": {},
     "output_type": "execute_result"
    }
   ],
   "source": [
    "# Your output should look something like this:"
   ]
  },
  {
   "cell_type": "markdown",
   "metadata": {},
   "source": [
    "### Task 5\n",
    "\n",
    "Use indexing to grab the letter 'o' from the last line of the file."
   ]
  },
  {
   "cell_type": "code",
   "execution_count": 9,
   "metadata": {},
   "outputs": [
    {
     "name": "stdout",
     "output_type": "stream",
     "text": [
      "o\n"
     ]
    }
   ],
   "source": [
    "o = last[5]\n",
    "print(o)"
   ]
  },
  {
   "cell_type": "code",
   "execution_count": 45,
   "metadata": {},
   "outputs": [
    {
     "data": {
      "text/plain": [
       "'o'"
      ]
     },
     "execution_count": 45,
     "metadata": {},
     "output_type": "execute_result"
    }
   ],
   "source": [
    "# Your output should look something like this:"
   ]
  },
  {
   "cell_type": "markdown",
   "metadata": {},
   "source": [
    "### Task 6\n",
    "\n",
    "How could you use Python to count how many words there are in the last line?"
   ]
  },
  {
   "cell_type": "code",
   "execution_count": 10,
   "metadata": {},
   "outputs": [
    {
     "name": "stdout",
     "output_type": "stream",
     "text": [
      "4\n"
     ]
    }
   ],
   "source": [
    "words = last.split()\n",
    "count = 0 \n",
    "for i in words:\n",
    "    count += 1\n",
    "print(count)"
   ]
  },
  {
   "cell_type": "code",
   "execution_count": 48,
   "metadata": {},
   "outputs": [
    {
     "data": {
      "text/plain": [
       "4"
      ]
     },
     "execution_count": 48,
     "metadata": {},
     "output_type": "execute_result"
    }
   ],
   "source": [
    "# Your output should look something like this:"
   ]
  },
  {
   "cell_type": "markdown",
   "metadata": {},
   "source": [
    "### Task 7\n",
    "\n",
    "What data types are returned by the following lines of code:\n",
    "\n",
    "    1.)  2/3\n",
    "    2.)  2 + 2.0\n",
    "    3.)  1 + 1\n",
    "    4.)  \"2\" + \"2\"\n",
    "    5.)  1 > 2\n",
    "    \n",
    "Try to do these in your head before checking by running the code in python."
   ]
  },
  {
   "cell_type": "code",
   "execution_count": 3,
   "metadata": {
    "collapsed": true
   },
   "outputs": [],
   "source": [
    "# No need to write down your answers, just use this cell to self check is necessary.\n",
    "float\n",
    "int\n",
    "int\n",
    "string\n",
    "Boolean\n"
   ]
  },
  {
   "cell_type": "markdown",
   "metadata": {},
   "source": [
    "### Task 8\n",
    "\n",
    "Let's check how well you understand indexing and key calls. Here we present to you a set of dictionaries and lists that are nested inside a single dictionary **d**. While this is an unrealistic representation of how you would use these data types in the field, this is just for practice:"
   ]
  },
  {
   "cell_type": "code",
   "execution_count": 12,
   "metadata": {},
   "outputs": [],
   "source": [
    "d = {\"levelone\":[1,2,{'leveltwo':[5,6,[1,['get me please']]]}]}"
   ]
  },
  {
   "cell_type": "markdown",
   "metadata": {},
   "source": [
    "Your task is to retrieve the string \"get me please\" from the dictionary with stacked index and key calls.\n",
    "\n",
    "Hint: Approach this step by step, slowly adding on more and more index calls. Recall that you can use .keys() to figure out what keys are in a  dictionary."
   ]
  },
  {
   "cell_type": "code",
   "execution_count": 22,
   "metadata": {},
   "outputs": [
    {
     "name": "stdout",
     "output_type": "stream",
     "text": [
      "get me please\n"
     ]
    }
   ],
   "source": [
    "print(d['levelone'][2]['leveltwo'][2][1][0])"
   ]
  },
  {
   "cell_type": "code",
   "execution_count": 57,
   "metadata": {},
   "outputs": [
    {
     "data": {
      "text/plain": [
       "'get me please'"
      ]
     },
     "execution_count": 57,
     "metadata": {},
     "output_type": "execute_result"
    }
   ],
   "source": [
    "# Your output should look something like this:"
   ]
  },
  {
   "cell_type": "markdown",
   "metadata": {},
   "source": [
    "### Bonus Task\n",
    "\n",
    "How many unique integers are in this list? (You will need to use a casting method we haven't shown you yet)"
   ]
  },
  {
   "cell_type": "code",
   "execution_count": 37,
   "metadata": {},
   "outputs": [],
   "source": [
    "mylist = [1,2,3,4,5,6,4,3,2,1,2,3,4,5,6,6,7,8,5,6,7,8,9,8,9,8,9,7,10,123,1,2,2,3,1,3,2,4,1,4,4,1,2,2,22,3,4,1,4,1]"
   ]
  },
  {
   "cell_type": "code",
   "execution_count": 40,
   "metadata": {},
   "outputs": [
    {
     "name": "stdout",
     "output_type": "stream",
     "text": [
      "{1, 2, 3, 4, 5, 6, 7, 8, 9, 10, 22, 123}\n",
      "12\n"
     ]
    }
   ],
   "source": [
    "set(mylist)\n",
    "print(set(mylist))\n",
    "myset = set(mylist)\n",
    "count = 0\n",
    "for i in myset:\n",
    "    count += 1\n",
    "print(count)"
   ]
  },
  {
   "cell_type": "code",
   "execution_count": 43,
   "metadata": {},
   "outputs": [
    {
     "data": {
      "text/plain": [
       "12"
      ]
     },
     "execution_count": 43,
     "metadata": {},
     "output_type": "execute_result"
    }
   ],
   "source": [
    "# Your output should look something like this:"
   ]
  },
  {
   "cell_type": "markdown",
   "metadata": {},
   "source": [
    "Excellent work recruit, now that you are done with the basics of data types and storage with Python, let's move on to learning about control flow with Python."
   ]
  }
 ],
 "metadata": {
  "kernelspec": {
   "display_name": "Python 3",
   "language": "python",
   "name": "python3"
  },
  "language_info": {
   "codemirror_mode": {
    "name": "ipython",
    "version": 3
   },
   "file_extension": ".py",
   "mimetype": "text/x-python",
   "name": "python",
   "nbconvert_exporter": "python",
   "pygments_lexer": "ipython3",
   "version": "3.6.5"
  }
 },
 "nbformat": 4,
 "nbformat_minor": 2
}
