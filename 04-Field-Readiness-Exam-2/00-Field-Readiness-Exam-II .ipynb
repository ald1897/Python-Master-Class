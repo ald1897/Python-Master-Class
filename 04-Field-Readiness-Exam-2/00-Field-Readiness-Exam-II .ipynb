{
 "cells": [
  {
   "cell_type": "markdown",
   "metadata": {},
   "source": [
    "# Field Readiness Exam II\n",
    "\n",
    "**Welcome to your second field readiness exam recruit! Let's quickly check your understanding on loops, python operators, functions like range and input, and list comprehensions.**\n",
    "\n",
    "**Complete the tasks below:**"
   ]
  },
  {
   "cell_type": "markdown",
   "metadata": {
    "collapsed": true
   },
   "source": [
    "### Task 1\n",
    "** Use a for loop and indexing to print out only the words that start with an s in this sentence: ** \n",
    "\n",
    "    \"Secret agents are super good at staying hidden.\"\n",
    "\n",
    "**Hint: the .split() method may be useful here! **"
   ]
  },
  {
   "cell_type": "code",
   "execution_count": 2,
   "metadata": {},
   "outputs": [],
   "source": [
    "mystring = \"Secret agents are super good at staying hidden.\""
   ]
  },
  {
   "cell_type": "code",
   "execution_count": 4,
   "metadata": {},
   "outputs": [
    {
     "name": "stdout",
     "output_type": "stream",
     "text": [
      "Secret\n",
      "super\n",
      "staying\n"
     ]
    }
   ],
   "source": [
    "# Code Here\n",
    "for i in mystring.split():\n",
    "    if i[0].lower() == 's':\n",
    "        print(i)"
   ]
  },
  {
   "cell_type": "markdown",
   "metadata": {},
   "source": [
    "### Task 2"
   ]
  },
  {
   "cell_type": "markdown",
   "metadata": {},
   "source": [
    "** Using the same string as previously used:**\n",
    "\n",
    "    \"Secret agents are super good at staying hidden.\"\n",
    "\n",
    "** Use a for loop to only print out the words with an even number of characters/letters. **"
   ]
  },
  {
   "cell_type": "code",
   "execution_count": 5,
   "metadata": {},
   "outputs": [
    {
     "name": "stdout",
     "output_type": "stream",
     "text": [
      "Secret\n",
      "agents\n",
      "good\n",
      "at\n"
     ]
    }
   ],
   "source": [
    "# Code Here\n",
    "for i in mystring.split():\n",
    "    if len(i)%2 == 0:\n",
    "        print(i)"
   ]
  },
  {
   "cell_type": "markdown",
   "metadata": {},
   "source": [
    "### Task 3\n",
    "\n",
    "**Use a list comprehension to create a list of every first letter in this string:**\n",
    "\n",
    "    mystring = \"Secret agents are super good at staying hidden.\""
   ]
  },
  {
   "cell_type": "code",
   "execution_count": 10,
   "metadata": {
    "collapsed": true
   },
   "outputs": [],
   "source": [
    "mystring = \"Secret agents are super good at staying hidden.\""
   ]
  },
  {
   "cell_type": "code",
   "execution_count": 7,
   "metadata": {},
   "outputs": [
    {
     "name": "stdout",
     "output_type": "stream",
     "text": [
      "['S', 'a', 'a', 's', 'g', 'a', 's', 'h']\n"
     ]
    }
   ],
   "source": [
    "# Code Here\n",
    "first = []\n",
    "for i in mystring.split():\n",
    "    first.append(i[0])\n",
    "print(first)"
   ]
  },
  {
   "cell_type": "markdown",
   "metadata": {},
   "source": [
    "### Task 4\n",
    "\n",
    "**Use list comprehension to create a list of all the even numbers from 0 to 10.**"
   ]
  },
  {
   "cell_type": "code",
   "execution_count": 9,
   "metadata": {},
   "outputs": [
    {
     "name": "stdout",
     "output_type": "stream",
     "text": [
      "[0, 2, 4, 6, 8, 10]\n"
     ]
    }
   ],
   "source": [
    "# Code Here\n",
    "numbers = [0,1,2,3,4,5,6,7,8,9,10]\n",
    "evens = []\n",
    "for i in numbers:\n",
    "    if i % 2 == 0:\n",
    "        evens.append(i)\n",
    "print(evens)"
   ]
  },
  {
   "cell_type": "markdown",
   "metadata": {},
   "source": [
    "### Task 5\n",
    "\n",
    "**Use the range function to create a list of all the even numbers from 0 to 10.**"
   ]
  },
  {
   "cell_type": "code",
   "execution_count": 10,
   "metadata": {},
   "outputs": [
    {
     "name": "stdout",
     "output_type": "stream",
     "text": [
      "[0, 2, 4, 6, 8, 10]\n"
     ]
    }
   ],
   "source": [
    "# Code Here\n",
    "evens = []\n",
    "for i in range(0,11):\n",
    "    if i % 2 == 0:\n",
    "        evens.append(i)\n",
    "print(evens)"
   ]
  },
  {
   "cell_type": "markdown",
   "metadata": {},
   "source": [
    "### Task 6\n",
    "\n",
    "** Create a for loop that uses the random library to create a list of 10 random numbers.**"
   ]
  },
  {
   "cell_type": "code",
   "execution_count": 14,
   "metadata": {},
   "outputs": [
    {
     "name": "stdout",
     "output_type": "stream",
     "text": [
      "[87, 76, 85, 35, 20, 67, 25, 9, 88, 79, 74]\n"
     ]
    }
   ],
   "source": [
    "import random\n",
    "rands = []\n",
    "for i in range(0,11):\n",
    "    rands.append(random.randint(0,100))\n",
    "print(rands)"
   ]
  },
  {
   "cell_type": "code",
   "execution_count": 21,
   "metadata": {},
   "outputs": [
    {
     "name": "stdout",
     "output_type": "stream",
     "text": [
      "[95, 69, 33, 40, 92, 65, 9, 69, 91, 94, 85]\n"
     ]
    }
   ],
   "source": [
    "# Code Here"
   ]
  },
  {
   "cell_type": "markdown",
   "metadata": {},
   "source": [
    "### Task 7\n",
    "\n",
    "** Use list comprehension and the random library to create a list of 10 random numbers **"
   ]
  },
  {
   "cell_type": "code",
   "execution_count": 21,
   "metadata": {},
   "outputs": [
    {
     "name": "stdout",
     "output_type": "stream",
     "text": [
      "[36, 96, 56, 15, 65, 67, 85, 40, 56, 62]\n"
     ]
    }
   ],
   "source": [
    "# Code Here\n",
    "rands = [random.randint(0,100) for n in range(0,10)]\n",
    "\n",
    "print(rands)"
   ]
  },
  {
   "cell_type": "markdown",
   "metadata": {},
   "source": [
    "### Task 8\n",
    "\n",
    "** Create a while loop that will ask the user to input an even number. It should keep repeating the request until an even integer is provided. You should only need to expect integers to be passed in, if the user provides a string or something else that can't be transformed to an integer with int(), then the loop should break with an error. **\n",
    "\n",
    "** Important things to keep in mind when working with while loops with the input() function:**\n",
    "* It's very easy to get stuck in an infinite loop, click on Kernel in the top toolbar and select Restart Kernel to fix this.\n",
    "* If you re-run a cell still waiting for an input() it will get stuck with In [*\\] , again select Restart Kernel to fix this."
   ]
  },
  {
   "cell_type": "code",
   "execution_count": 28,
   "metadata": {},
   "outputs": [
    {
     "name": "stdout",
     "output_type": "stream",
     "text": [
      "Please Provide an even number:5\n",
      "Please Provide an even number:7\n",
      "Please Provide an even number:9\n",
      "Please Provide an even number:1\n",
      "Please Provide an even number:3\n",
      "Please Provide an even number:5\n",
      "Please Provide an even number:2\n",
      "Thank You\n"
     ]
    }
   ],
   "source": [
    "# Code Here\n",
    "number = int(input('Please Provide an even number:'))\n",
    "\n",
    "while number % 2 != 0:\n",
    "    number = int(input('Please Provide an even number:'))\n",
    "    if number % 2 == 0:\n",
    "        print('Thank You')\n"
   ]
  },
  {
   "cell_type": "markdown",
   "metadata": {
    "collapsed": true
   },
   "source": [
    "Best of luck!"
   ]
  }
 ],
 "metadata": {
  "kernelspec": {
   "display_name": "Python 3",
   "language": "python",
   "name": "python3"
  },
  "language_info": {
   "codemirror_mode": {
    "name": "ipython",
    "version": 3
   },
   "file_extension": ".py",
   "mimetype": "text/x-python",
   "name": "python",
   "nbconvert_exporter": "python",
   "pygments_lexer": "ipython3",
   "version": "3.6.5"
  }
 },
 "nbformat": 4,
 "nbformat_minor": 2
}
